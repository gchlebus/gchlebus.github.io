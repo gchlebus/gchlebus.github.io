{
 "cells": [
  {
   "cell_type": "code",
   "execution_count": 1,
   "metadata": {
    "nbpresent": {
     "id": "c5fd9dba-d51a-4471-8b66-28875863813a"
    }
   },
   "outputs": [
    {
     "name": "stderr",
     "output_type": "stream",
     "text": [
      "/Users/gchlebus/anaconda2/envs/tf/lib/python3.6/importlib/_bootstrap.py:219: RuntimeWarning: compiletime version 3.5 of module 'tensorflow.python.framework.fast_tensor_util' does not match runtime version 3.6\n",
      "  return f(*args, **kwds)\n"
     ]
    }
   ],
   "source": [
    "#%load_ext autoreload\n",
    "#%autoreload 2\n",
    "import matplotlib.pyplot as plt\n",
    "import numpy as np\n",
    "import pprint\n",
    "from tqdm import tqdm\n",
    "%matplotlib inline\n",
    "plt.rcParams['figure.figsize'] = (14.0, 8.0) # set default size of plots\n",
    "plt.rcParams['image.interpolation'] = 'nearest'\n",
    "plt.rcParams['image.cmap'] = 'gray'\n",
    "plt.rcParams['font.size'] = 20\n",
    "\n",
    "from main import experiment\n",
    "from conv_net import ConvNet, TrainLoss\n",
    "import pprint\n",
    "iterations = 10001\n",
    "n_conv = 2"
   ]
  },
  {
   "cell_type": "code",
   "execution_count": 2,
   "metadata": {
    "collapsed": true,
    "nbpresent": {
     "id": "a1368fc3-2125-4934-8c99-25f19c84f97a"
    }
   },
   "outputs": [],
   "source": [
    "import pickle\n",
    "\n",
    "def save(obj, filename):\n",
    "    with open(filename, 'wb') as f:\n",
    "        pickle.dump(obj, f)\n",
    "        \n",
    "def load(filename):\n",
    "    with open(filename, 'rb') as f:\n",
    "        return pickle.load(f)\n",
    "\n",
    "def plot(results, **kwargs):\n",
    "    results = dict(results)\n",
    "    legend = kwargs.get('legend', True)\n",
    "    y1lim = kwargs.get('y1lim')\n",
    "    y2lim = kwargs.get('y2lim')\n",
    "    xticks = kwargs.get('xticks')\n",
    "    \n",
    "    ax1 = plt.gca()\n",
    "    for loss in 'cce_loss dice_fg_loss dice_loss'.split():\n",
    "        y = results[loss]\n",
    "        ax1.plot(range(len(y)), y, label=loss)\n",
    "    ax1.set_xlabel('iteration')\n",
    "\n",
    "    if legend:\n",
    "        ax1.legend()\n",
    "    if y1lim:\n",
    "        ax1.set_ylim(y1lim[0], y1lim[1])\n",
    "    if kwargs.get('y1axis', True):\n",
    "        ax1.set_ylabel('loss')        \n",
    "    else:\n",
    "        ax1.yaxis.set_ticklabels([])\n",
    "    \n",
    "    ax2 = ax1.twinx()\n",
    "    x = [x for x,v in results['accuracy']]\n",
    "    acc = [v for x,v in results['accuracy']]\n",
    "    ax2.plot(x, acc, 'k', label='accuracy')\n",
    "    if y2lim:\n",
    "        ax2.set_ylim(y2lim[0], y2lim[1])\n",
    "    if kwargs.get('y2axis', True):\n",
    "        ax2.set_ylabel('accuracy')\n",
    "    else:\n",
    "        ax2.yaxis.set_ticklabels([])\n",
    "    if legend:\n",
    "        ax2.legend()\n",
    "    if xticks:\n",
    "        plt.xticks(xticks)\n",
    "    plt.title(kwargs.get('title', ''))\n",
    "    \n",
    "def plot_grad(results, **kwargs):\n",
    "    smooth = kwargs.get('smooth', 0)\n",
    "\n",
    "    for grad in 'cce_grad dice_fg_grad dice_grad'.split():\n",
    "        y = results[grad]\n",
    "        if smooth:\n",
    "            y = np.convolve(y, np.ones((smooth,))/smooth, mode='same')\n",
    "        plt.plot(range(len(y)), y, label=grad)\n",
    "    if kwargs.get('legend', True):\n",
    "        plt.legend()\n",
    "    if kwargs.get('xaxis', True):\n",
    "        plt.xlabel('iteration')\n",
    "    else:\n",
    "        plt.gca().xaxis.set_ticklabels([])\n",
    "    if kwargs.get('yaxis', True):\n",
    "        plt.ylabel('gradient norm')\n",
    "    else:\n",
    "        plt.gca().yaxis.set_ticklabels([])\n",
    "    plt.title(kwargs.get('title', ''))\n",
    "    ylim = kwargs.get('ylim')\n",
    "    if ylim:\n",
    "        plt.gca().set_ylim(ylim[0], ylim[1])"
   ]
  },
  {
   "cell_type": "markdown",
   "metadata": {
    "nbpresent": {
     "id": "6b174a12-58c3-43f0-9844-dc8bc752e93b"
    }
   },
   "source": [
    "### Categorical Cross Entropy 50% FG"
   ]
  },
  {
   "cell_type": "code",
   "execution_count": null,
   "metadata": {
    "collapsed": true,
    "nbpresent": {
     "id": "6d078e93-be3b-4a2a-89a5-5677ee259c5e"
    }
   },
   "outputs": [],
   "source": [
    "cce50_filename = './cce_50fg.pkl'"
   ]
  },
  {
   "cell_type": "code",
   "execution_count": null,
   "metadata": {
    "nbpresent": {
     "id": "aecf0590-94aa-450b-92f9-c0191e8215bd"
    }
   },
   "outputs": [
    {
     "name": "stderr",
     "output_type": "stream",
     "text": [
      " 32%|███▏      | 3237/10001 [00:48<01:41, 66.82it/s]"
     ]
    }
   ],
   "source": [
    "result = experiment(0.5, iterations, TrainLoss.CCE, n_conv, summary_dir='./log_cce')\n",
    "save(result, cce50_filename)"
   ]
  },
  {
   "cell_type": "code",
   "execution_count": null,
   "metadata": {
    "collapsed": true,
    "nbpresent": {
     "id": "ee64e78a-6175-4cc6-8ba5-586c4e9c6744"
    }
   },
   "outputs": [],
   "source": [
    "#plot_grad(load(cce50_filename), title='50% foreground (CCE)', smooth=30)"
   ]
  },
  {
   "cell_type": "code",
   "execution_count": null,
   "metadata": {
    "collapsed": true,
    "nbpresent": {
     "id": "30242314-ce4a-4f87-99ec-7220280a9076"
    }
   },
   "outputs": [],
   "source": [
    "#plot(load(cce50_filename), title='50% foreground (CCE)')"
   ]
  },
  {
   "cell_type": "markdown",
   "metadata": {
    "nbpresent": {
     "id": "b6f1d969-8b9c-4f01-b61b-5c2dd3927870"
    }
   },
   "source": [
    "### Categorical Cross Entropy 20% FG"
   ]
  },
  {
   "cell_type": "code",
   "execution_count": null,
   "metadata": {
    "collapsed": true,
    "nbpresent": {
     "id": "68e4e739-4365-41c0-bba4-e539956dbdcb"
    }
   },
   "outputs": [],
   "source": [
    "cce20_filename = './cce_20fg.pkl'"
   ]
  },
  {
   "cell_type": "code",
   "execution_count": null,
   "metadata": {
    "nbpresent": {
     "id": "48df2dce-559e-43fd-9df6-0c622cdf8d27"
    }
   },
   "outputs": [],
   "source": [
    "result = experiment(0.8, iterations, TrainLoss.CCE, n_conv)\n",
    "save(result, cce20_filename)"
   ]
  },
  {
   "cell_type": "code",
   "execution_count": null,
   "metadata": {
    "collapsed": true,
    "nbpresent": {
     "id": "62ebd833-0fc3-4e45-bc24-dd6907b4f5fa"
    }
   },
   "outputs": [],
   "source": [
    "#plot_grad(load(cce20_filename), title='20% foreground (CCE)', smooth=30)"
   ]
  },
  {
   "cell_type": "code",
   "execution_count": null,
   "metadata": {
    "collapsed": true,
    "nbpresent": {
     "id": "effc526c-54ab-4bd5-833b-8f46f1cb25ee"
    }
   },
   "outputs": [],
   "source": [
    "#plot(load(cce20_filename), title='20% foreground (CCE)')"
   ]
  },
  {
   "cell_type": "markdown",
   "metadata": {
    "nbpresent": {
     "id": "dd3c3a57-c02e-4332-92c6-06bfeff8b66f"
    }
   },
   "source": [
    "### Categorical Cross Entropy 80% FG"
   ]
  },
  {
   "cell_type": "code",
   "execution_count": null,
   "metadata": {
    "collapsed": true,
    "nbpresent": {
     "id": "6c113b61-3bfe-436b-b64d-54477908cbd5"
    }
   },
   "outputs": [],
   "source": [
    "cce80_filename = './cce_80fg.pkl'"
   ]
  },
  {
   "cell_type": "code",
   "execution_count": null,
   "metadata": {
    "nbpresent": {
     "id": "e33a85a9-f932-49b3-8d21-32389bfd749c"
    }
   },
   "outputs": [],
   "source": [
    "result = experiment(0.2, iterations, TrainLoss.CCE, n_conv)\n",
    "save(result, cce80_filename)"
   ]
  },
  {
   "cell_type": "code",
   "execution_count": null,
   "metadata": {
    "collapsed": true,
    "nbpresent": {
     "id": "9256cc5c-4e13-4bfe-b826-1c3bd84fa9c7"
    }
   },
   "outputs": [],
   "source": [
    "#plot_grad(load(cce80_filename), title='80% foreground (CCE)', smooth=30)"
   ]
  },
  {
   "cell_type": "code",
   "execution_count": null,
   "metadata": {
    "collapsed": true,
    "nbpresent": {
     "id": "cab7fc75-fa92-43e5-801e-4e7f710b561f"
    }
   },
   "outputs": [],
   "source": [
    "#plot(load(cce80_filename), title='80% foreground (CCE)')"
   ]
  },
  {
   "cell_type": "markdown",
   "metadata": {
    "nbpresent": {
     "id": "3df8bbc7-2dea-4fae-804b-735560655f37"
    }
   },
   "source": [
    "### DICE FG 50% FG"
   ]
  },
  {
   "cell_type": "code",
   "execution_count": null,
   "metadata": {
    "collapsed": true,
    "nbpresent": {
     "id": "ba342972-9fcc-4941-b7ec-24ac4edfdd75"
    }
   },
   "outputs": [],
   "source": [
    "dice_fg50_filename = './dice_fg_50fg.pkl'"
   ]
  },
  {
   "cell_type": "code",
   "execution_count": null,
   "metadata": {
    "nbpresent": {
     "id": "8a3b85bd-8b74-4d81-bfc9-c5f902e6e9ae"
    }
   },
   "outputs": [],
   "source": [
    "result = experiment(0.5, iterations, TrainLoss.DICE_FG, n_conv, summary_dir='./log_dicefg')\n",
    "save(result, dice_fg50_filename)"
   ]
  },
  {
   "cell_type": "code",
   "execution_count": null,
   "metadata": {
    "collapsed": true,
    "nbpresent": {
     "id": "ab5f9723-41ae-4abb-835b-eb92909fec6c"
    }
   },
   "outputs": [],
   "source": [
    "#plot_grad(load(dice_fg50_filename), title='50% foreground (DICE_FG)', smooth=0)"
   ]
  },
  {
   "cell_type": "code",
   "execution_count": null,
   "metadata": {
    "collapsed": true,
    "nbpresent": {
     "id": "a38c339c-7b34-44e8-bec3-909607a321fa"
    }
   },
   "outputs": [],
   "source": [
    "#plot(load(dice_fg50_filename), title='50% foreground (DICE_FG)')"
   ]
  },
  {
   "cell_type": "markdown",
   "metadata": {
    "nbpresent": {
     "id": "d7814a61-ecd8-49c9-b0da-44b988f66519"
    }
   },
   "source": [
    "### DICE FG 20% FG"
   ]
  },
  {
   "cell_type": "code",
   "execution_count": null,
   "metadata": {
    "collapsed": true,
    "nbpresent": {
     "id": "ce070942-adaa-45d5-8db2-2b82426dc44a"
    }
   },
   "outputs": [],
   "source": [
    "dice_fg20_filename = './dice_fg_20fg.pkl'"
   ]
  },
  {
   "cell_type": "code",
   "execution_count": null,
   "metadata": {
    "nbpresent": {
     "id": "dd726f73-4806-40bc-96fc-73fefb01723e"
    }
   },
   "outputs": [],
   "source": [
    "result = experiment(0.8, iterations, TrainLoss.DICE_FG, n_conv, summary_dir='./log_dicefg_20fg')\n",
    "save(result, dice_fg20_filename)"
   ]
  },
  {
   "cell_type": "code",
   "execution_count": null,
   "metadata": {
    "nbpresent": {
     "id": "bbbd75e8-8c36-4ca0-b8aa-c30f11e9708a"
    }
   },
   "outputs": [],
   "source": [
    "plot_grad(load(dice_fg20_filename), title='20% foreground (DICE_FG)', smooth=30)"
   ]
  },
  {
   "cell_type": "code",
   "execution_count": null,
   "metadata": {
    "nbpresent": {
     "id": "91c52766-da07-4fee-9ee5-a1f03758b4ca"
    }
   },
   "outputs": [],
   "source": [
    "plot(load(dice_fg20_filename), title='20% foreground (DICE_FG)')"
   ]
  },
  {
   "cell_type": "markdown",
   "metadata": {
    "nbpresent": {
     "id": "80605bfe-d76e-4822-886f-2a2df4c2d273"
    }
   },
   "source": [
    "### DICE FG 80% FG"
   ]
  },
  {
   "cell_type": "code",
   "execution_count": null,
   "metadata": {
    "collapsed": true,
    "nbpresent": {
     "id": "97e1d387-4187-48a3-b9c1-ee094894a456"
    }
   },
   "outputs": [],
   "source": [
    "dice_fg80_filename = './dice_fg_80fg.pkl'"
   ]
  },
  {
   "cell_type": "code",
   "execution_count": null,
   "metadata": {
    "nbpresent": {
     "id": "8a6ebd35-4b06-4c65-822c-6a7fdb750af3"
    }
   },
   "outputs": [],
   "source": [
    "result = experiment(0.2, iterations, TrainLoss.DICE_FG, n_conv, summary_dir='./log_dicefg_80fg')\n",
    "save(result, dice_fg80_filename)"
   ]
  },
  {
   "cell_type": "code",
   "execution_count": null,
   "metadata": {
    "nbpresent": {
     "id": "948d99ba-25ff-4c24-bfc8-2877532e11a7"
    }
   },
   "outputs": [],
   "source": [
    "plot_grad(load(dice_fg80_filename), title='80% foreground (DICE_FG)', smooth=30)"
   ]
  },
  {
   "cell_type": "code",
   "execution_count": null,
   "metadata": {
    "nbpresent": {
     "id": "3e9b43df-a780-4274-853c-c27965bf57ac"
    }
   },
   "outputs": [],
   "source": [
    "plot(load(dice_fg80_filename), title='80% foreground (DICE_FG)')"
   ]
  },
  {
   "cell_type": "markdown",
   "metadata": {
    "nbpresent": {
     "id": "f38f2088-f897-4d8c-ad69-05e60d3a21f1"
    }
   },
   "source": [
    "### DICE 50% FG"
   ]
  },
  {
   "cell_type": "code",
   "execution_count": null,
   "metadata": {
    "collapsed": true,
    "nbpresent": {
     "id": "56364033-3e4a-4ec4-b33a-e2a7a66ebb73"
    }
   },
   "outputs": [],
   "source": [
    "dice50_filename = './dice_50fg.pkl'"
   ]
  },
  {
   "cell_type": "code",
   "execution_count": null,
   "metadata": {
    "nbpresent": {
     "id": "9829e4b4-9391-4dcf-b076-1f2ec7400d22"
    }
   },
   "outputs": [],
   "source": [
    "result = experiment(0.5, iterations, TrainLoss.DICE, n_conv, summary_dir='./log_dice')\n",
    "save(result, dice50_filename)"
   ]
  },
  {
   "cell_type": "code",
   "execution_count": null,
   "metadata": {
    "collapsed": true,
    "nbpresent": {
     "id": "d4aeaf97-65fd-4983-92b2-67b4cb54f5f8"
    }
   },
   "outputs": [],
   "source": [
    "#plot_grad(load(dice50_filename), title='50% foreground (DICE)', smooth=30)"
   ]
  },
  {
   "cell_type": "code",
   "execution_count": null,
   "metadata": {
    "collapsed": true,
    "nbpresent": {
     "id": "ac5fe798-9241-462d-8e77-031597419c43"
    }
   },
   "outputs": [],
   "source": [
    "#plot(load(dice50_filename), title='50% foreground (DICE)')"
   ]
  },
  {
   "cell_type": "markdown",
   "metadata": {
    "nbpresent": {
     "id": "851ed0b8-1e3d-4139-a7c1-2372fa8f9a85"
    }
   },
   "source": [
    "### DICE 20% FG"
   ]
  },
  {
   "cell_type": "code",
   "execution_count": null,
   "metadata": {
    "collapsed": true,
    "nbpresent": {
     "id": "52641120-db81-4db7-a18f-e3eb8e6f8954"
    }
   },
   "outputs": [],
   "source": [
    "dice20_filename = './dice_20fg.pkl'"
   ]
  },
  {
   "cell_type": "code",
   "execution_count": null,
   "metadata": {
    "nbpresent": {
     "id": "7a1e8bcf-6000-4e44-baa7-cf987234cc4d"
    }
   },
   "outputs": [],
   "source": [
    "result = experiment(0.8, iterations, TrainLoss.DICE, n_conv)\n",
    "save(result, dice20_filename)"
   ]
  },
  {
   "cell_type": "code",
   "execution_count": null,
   "metadata": {
    "collapsed": true,
    "nbpresent": {
     "id": "14a405ca-2795-4720-a06e-3849dac8bf98"
    }
   },
   "outputs": [],
   "source": [
    "#plot_grad(load(dice20_filename), title='20% foreground (DICE)', smooth=30)"
   ]
  },
  {
   "cell_type": "code",
   "execution_count": null,
   "metadata": {
    "collapsed": true,
    "nbpresent": {
     "id": "aa663d50-05de-4c5a-9d28-0087e4022294"
    }
   },
   "outputs": [],
   "source": [
    "#plot(load(dice20_filename), title='20% foreground (DICE)')"
   ]
  },
  {
   "cell_type": "markdown",
   "metadata": {
    "nbpresent": {
     "id": "17cb9c6f-6234-4e50-82cb-d9def4fc293e"
    }
   },
   "source": [
    "### DICE 80% FG"
   ]
  },
  {
   "cell_type": "code",
   "execution_count": null,
   "metadata": {
    "collapsed": true,
    "nbpresent": {
     "id": "3e8e0721-9a98-491a-a671-95f9fca4cab8"
    }
   },
   "outputs": [],
   "source": [
    "dice80_filename = './dice_80fg.pkl'"
   ]
  },
  {
   "cell_type": "code",
   "execution_count": null,
   "metadata": {
    "nbpresent": {
     "id": "68b90638-366d-4e2a-9753-54b07bf5a742"
    }
   },
   "outputs": [],
   "source": [
    "result = experiment(0.2, iterations, TrainLoss.DICE, n_conv)\n",
    "save(result, dice80_filename)"
   ]
  },
  {
   "cell_type": "code",
   "execution_count": null,
   "metadata": {
    "nbpresent": {
     "id": "ff401d21-b16f-4cc6-85c0-d6c5c612a05d"
    }
   },
   "outputs": [],
   "source": [
    "plot_grad(load(dice80_filename), title='80% foreground (DICE)', smooth=30)"
   ]
  },
  {
   "cell_type": "code",
   "execution_count": null,
   "metadata": {
    "nbpresent": {
     "id": "f34fb814-2b5b-4a89-86d1-8f68b82e8abf"
    }
   },
   "outputs": [],
   "source": [
    "plot(load(dice80_filename), title='80% foreground (DICE)')"
   ]
  },
  {
   "cell_type": "markdown",
   "metadata": {},
   "source": [
    "### Group Plots"
   ]
  },
  {
   "cell_type": "code",
   "execution_count": null,
   "metadata": {
    "collapsed": true
   },
   "outputs": [],
   "source": [
    "def group_plot(filenames, opts1, opts2, title):\n",
    "    nrows = 2\n",
    "    ncols = 3\n",
    "    plt.suptitle(title)\n",
    "    plt.subplot(nrows, ncols, 1)\n",
    "    plot_grad(load(filenames[0]), **opts1, title='cce')\n",
    "    plt.subplot(nrows, ncols, 2)\n",
    "    plot_grad(load(filenames[1]), **opts1, yaxis=False, title='dice (fg only)')\n",
    "    plt.subplot(nrows, ncols, 3)\n",
    "    plot_grad(load(filenames[2]), **opts1, yaxis=False, title='dice')\n",
    "    \n",
    "    plt.subplot(nrows, ncols, 4)\n",
    "    plot(load(filenames[0]), **opts2, y2axis=False)\n",
    "    plt.subplot(nrows, ncols, 5)\n",
    "    plot(load(filenames[1]), **opts2, y1axis=False, y2axis=False)\n",
    "    plt.subplot(nrows, ncols, 6)\n",
    "    plot(load(filenames[2]), **opts2, y1axis=False)"
   ]
  },
  {
   "cell_type": "code",
   "execution_count": null,
   "metadata": {},
   "outputs": [],
   "source": [
    "opts1 = {\n",
    "    'smooth': 10,\n",
    "    'ylim': [0, 2],\n",
    "    'legend': False,\n",
    "    'xaxis': False\n",
    "}\n",
    "opts2 = {\n",
    "    'y1lim': [0, 1.2],\n",
    "    'y2lim': [0.3, 1.1],\n",
    "    'legend': False\n",
    "}\n",
    "group_plot([cce50_filename, dice_fg50_filename, dice50_filename], opts1, opts2, title='50% FOREGROUND')"
   ]
  },
  {
   "cell_type": "code",
   "execution_count": null,
   "metadata": {},
   "outputs": [],
   "source": [
    "opts1 = {\n",
    "    'smooth': 10,\n",
    "    'ylim': [0, 3],\n",
    "    'legend': False,\n",
    "    'xaxis': False\n",
    "}\n",
    "opts2 = {\n",
    "    'y1lim': [0, 1.0],\n",
    "    'y2lim': [0.3, 1.1],\n",
    "    'legend': False\n",
    "}\n",
    "group_plot([cce20_filename, dice_fg20_filename, dice20_filename], opts1, opts2, title='20% FOREGROUND')"
   ]
  },
  {
   "cell_type": "code",
   "execution_count": null,
   "metadata": {},
   "outputs": [],
   "source": [
    "opts1 = {\n",
    "    'smooth': 10,\n",
    "    'ylim': [0, 3],\n",
    "    'legend': False,\n",
    "    'xaxis': False\n",
    "}\n",
    "opts2 = {\n",
    "    'y1lim': [0, 1.2],\n",
    "    'y2lim': [0.3, 1.1],\n",
    "    'legend': False\n",
    "}\n",
    "group_plot([cce80_filename, dice_fg80_filename, dice80_filename], opts1, opts2, title='80% FOREGROUND')"
   ]
  },
  {
   "cell_type": "code",
   "execution_count": null,
   "metadata": {
    "collapsed": true
   },
   "outputs": [],
   "source": []
  }
 ],
 "metadata": {
  "kernelspec": {
   "display_name": "Python [conda env:tf]",
   "language": "python",
   "name": "conda-env-tf-py"
  },
  "language_info": {
   "codemirror_mode": {
    "name": "ipython",
    "version": 3
   },
   "file_extension": ".py",
   "mimetype": "text/x-python",
   "name": "python",
   "nbconvert_exporter": "python",
   "pygments_lexer": "ipython3",
   "version": "3.6.4"
  },
  "nbpresent": {
   "slides": {
    "03aaad0c-abe9-45b3-a5f6-ead3046e84d6": {
     "id": "03aaad0c-abe9-45b3-a5f6-ead3046e84d6",
     "prev": "2a709de5-c542-4817-99ed-0cd3528b4184",
     "regions": {
      "8ab05c8f-2d54-46d2-9045-fd7a09a8fdb4": {
       "attrs": {
        "height": 0.8,
        "width": 0.8,
        "x": 0.1,
        "y": 0.1
       },
       "content": {
        "cell": "52641120-db81-4db7-a18f-e3eb8e6f8954",
        "part": "whole"
       },
       "id": "8ab05c8f-2d54-46d2-9045-fd7a09a8fdb4"
      }
     }
    },
    "061125e8-695f-4d07-9012-ce6ba27c0a20": {
     "id": "061125e8-695f-4d07-9012-ce6ba27c0a20",
     "prev": "133207aa-8333-447d-81b2-2f7261305803",
     "regions": {
      "ca3edfa0-80dc-4187-9dcf-8bfb3332c3c3": {
       "attrs": {
        "height": 0.8,
        "width": 0.8,
        "x": 0.1,
        "y": 0.1
       },
       "content": {
        "cell": "ee64e78a-6175-4cc6-8ba5-586c4e9c6744",
        "part": "whole"
       },
       "id": "ca3edfa0-80dc-4187-9dcf-8bfb3332c3c3"
      }
     }
    },
    "133207aa-8333-447d-81b2-2f7261305803": {
     "id": "133207aa-8333-447d-81b2-2f7261305803",
     "prev": "d7ce4239-502d-412e-a0b5-22138568c28e",
     "regions": {
      "f996e62a-69d0-4db8-9f2d-7cdb0482e50e": {
       "attrs": {
        "height": 0.8,
        "width": 0.8,
        "x": 0.1,
        "y": 0.1
       },
       "content": {
        "cell": "aecf0590-94aa-450b-92f9-c0191e8215bd",
        "part": "whole"
       },
       "id": "f996e62a-69d0-4db8-9f2d-7cdb0482e50e"
      }
     }
    },
    "14bae410-eab0-4d2a-bd63-7da93ccdceeb": {
     "id": "14bae410-eab0-4d2a-bd63-7da93ccdceeb",
     "prev": "e5c88dd6-1167-44d2-b903-af51b145a0ca",
     "regions": {
      "2e4ff15e-fef0-4711-9a5c-66251d06a1ed": {
       "attrs": {
        "height": 0.8,
        "width": 0.8,
        "x": 0.1,
        "y": 0.1
       },
       "content": {
        "cell": "948d99ba-25ff-4c24-bfc8-2877532e11a7",
        "part": "whole"
       },
       "id": "2e4ff15e-fef0-4711-9a5c-66251d06a1ed"
      }
     }
    },
    "14d44cbe-53fc-4f1d-aed3-f7f02d89ce86": {
     "id": "14d44cbe-53fc-4f1d-aed3-f7f02d89ce86",
     "prev": "ba8bc73f-48ea-48d0-9f70-e894310cf62a",
     "regions": {
      "8eba793d-199f-485e-a445-04fd3b946035": {
       "attrs": {
        "height": 0.8,
        "width": 0.8,
        "x": 0.1,
        "y": 0.1
       },
       "content": {
        "cell": "91c52766-da07-4fee-9ee5-a1f03758b4ca",
        "part": "whole"
       },
       "id": "8eba793d-199f-485e-a445-04fd3b946035"
      }
     }
    },
    "1931cea2-3649-483a-8a12-36abeadbc476": {
     "id": "1931cea2-3649-483a-8a12-36abeadbc476",
     "prev": "8285a566-d44b-4d64-951e-b73bc9754b0b",
     "regions": {
      "cb1e76a9-42ab-49f1-b5d8-8bb9dee11d3e": {
       "attrs": {
        "height": 0.8,
        "width": 0.8,
        "x": 0.1,
        "y": 0.1
       },
       "content": {
        "cell": "ac5fe798-9241-462d-8e77-031597419c43",
        "part": "whole"
       },
       "id": "cb1e76a9-42ab-49f1-b5d8-8bb9dee11d3e"
      }
     }
    },
    "217cf9f8-d155-4994-8cd0-51ebd8299f3b": {
     "id": "217cf9f8-d155-4994-8cd0-51ebd8299f3b",
     "prev": "913035ac-4e68-4ba5-8143-75aa87cbf216",
     "regions": {
      "c1dbc1cd-7da1-4217-a725-238f461ad583": {
       "attrs": {
        "height": 0.8,
        "width": 0.8,
        "x": 0.1,
        "y": 0.1
       },
       "content": {
        "cell": "62ebd833-0fc3-4e45-bc24-dd6907b4f5fa",
        "part": "whole"
       },
       "id": "c1dbc1cd-7da1-4217-a725-238f461ad583"
      }
     }
    },
    "22ff0c02-202e-4b0e-8761-91c244c71515": {
     "id": "22ff0c02-202e-4b0e-8761-91c244c71515",
     "prev": "7f8f8477-d5e6-415b-8ad2-11dae1e866ec",
     "regions": {
      "9c316b3c-439a-4d9b-ad9a-8a0fac0dca22": {
       "attrs": {
        "height": 0.8,
        "width": 0.8,
        "x": 0.1,
        "y": 0.1
       },
       "content": {
        "cell": "a38c339c-7b34-44e8-bec3-909607a321fa",
        "part": "whole"
       },
       "id": "9c316b3c-439a-4d9b-ad9a-8a0fac0dca22"
      }
     }
    },
    "26751ed4-5876-43dc-b716-2843223f4495": {
     "id": "26751ed4-5876-43dc-b716-2843223f4495",
     "prev": "5286b682-2e16-4252-ade9-b16521305abc",
     "regions": {
      "6ce86db4-1d83-4f67-b4d4-0998b6a1a7df": {
       "attrs": {
        "height": 0.8,
        "width": 0.8,
        "x": 0.1,
        "y": 0.1
       },
       "content": {
        "cell": "cab7fc75-fa92-43e5-801e-4e7f710b561f",
        "part": "whole"
       },
       "id": "6ce86db4-1d83-4f67-b4d4-0998b6a1a7df"
      }
     }
    },
    "2a709de5-c542-4817-99ed-0cd3528b4184": {
     "id": "2a709de5-c542-4817-99ed-0cd3528b4184",
     "prev": "1931cea2-3649-483a-8a12-36abeadbc476",
     "regions": {
      "fb56e82e-3915-4d6e-a2ae-6f2ab71aac5e": {
       "attrs": {
        "height": 0.8,
        "width": 0.8,
        "x": 0.1,
        "y": 0.1
       },
       "content": {
        "cell": "851ed0b8-1e3d-4139-a7c1-2372fa8f9a85",
        "part": "whole"
       },
       "id": "fb56e82e-3915-4d6e-a2ae-6f2ab71aac5e"
      }
     }
    },
    "2e1cd9d3-3855-453b-affa-8356f182866e": {
     "id": "2e1cd9d3-3855-453b-affa-8356f182866e",
     "prev": "a76e9f37-ddc0-4dd3-82b8-f4610d142701",
     "regions": {
      "2d799bf7-2a1f-4858-835d-dd91ee87fbd8": {
       "attrs": {
        "height": 0.8,
        "width": 0.8,
        "x": 0.1,
        "y": 0.1
       },
       "content": {
        "cell": "8a3b85bd-8b74-4d81-bfc9-c5f902e6e9ae",
        "part": "whole"
       },
       "id": "2d799bf7-2a1f-4858-835d-dd91ee87fbd8"
      }
     }
    },
    "39f5efbc-6d43-49ef-abed-3197b2b2609f": {
     "id": "39f5efbc-6d43-49ef-abed-3197b2b2609f",
     "prev": "db2c34c4-1409-4cbb-a478-491df2e4a0de",
     "regions": {
      "4da566d0-e48f-4b52-a032-d17112e6e66b": {
       "attrs": {
        "height": 0.8,
        "width": 0.8,
        "x": 0.1,
        "y": 0.1
       },
       "content": {
        "cell": "e33a85a9-f932-49b3-8d21-32389bfd749c",
        "part": "whole"
       },
       "id": "4da566d0-e48f-4b52-a032-d17112e6e66b"
      }
     }
    },
    "45446878-c4ed-401d-8eb0-4c8ebfbb6eb9": {
     "id": "45446878-c4ed-401d-8eb0-4c8ebfbb6eb9",
     "prev": "a22dbd5c-fd75-457c-ad92-1fbd3cabea29",
     "regions": {
      "c69322cd-29f2-45d8-b76c-1d4efd0728c6": {
       "attrs": {
        "height": 0.8,
        "width": 0.8,
        "x": 0.1,
        "y": 0.1
       },
       "content": {
        "cell": "b6f1d969-8b9c-4f01-b61b-5c2dd3927870",
        "part": "whole"
       },
       "id": "c69322cd-29f2-45d8-b76c-1d4efd0728c6"
      }
     }
    },
    "46d0582e-d950-496c-948a-93cdb0367fca": {
     "id": "46d0582e-d950-496c-948a-93cdb0367fca",
     "prev": "a5c28a2b-0c4c-4867-9a77-4c0195887e59",
     "regions": {
      "9d091323-6a4d-4908-85eb-99101c5cba35": {
       "attrs": {
        "height": 0.8,
        "width": 0.8,
        "x": 0.1,
        "y": 0.1
       },
       "content": {
        "cell": "aa663d50-05de-4c5a-9d28-0087e4022294",
        "part": "whole"
       },
       "id": "9d091323-6a4d-4908-85eb-99101c5cba35"
      }
     }
    },
    "5286b682-2e16-4252-ade9-b16521305abc": {
     "id": "5286b682-2e16-4252-ade9-b16521305abc",
     "prev": "39f5efbc-6d43-49ef-abed-3197b2b2609f",
     "regions": {
      "a6e4643e-93e9-455f-9c0b-3f1343fd8105": {
       "attrs": {
        "height": 0.8,
        "width": 0.8,
        "x": 0.1,
        "y": 0.1
       },
       "content": {
        "cell": "9256cc5c-4e13-4bfe-b826-1c3bd84fa9c7",
        "part": "whole"
       },
       "id": "a6e4643e-93e9-455f-9c0b-3f1343fd8105"
      }
     }
    },
    "6275a493-c25e-410f-84e6-e8f9825aebd8": {
     "id": "6275a493-c25e-410f-84e6-e8f9825aebd8",
     "prev": "94829f2c-585e-462e-b778-6895612d0cff",
     "regions": {
      "377b1d2e-fb4b-4287-8539-ca876da0fe06": {
       "attrs": {
        "height": 0.8,
        "width": 0.8,
        "x": 0.1,
        "y": 0.1
       },
       "content": {
        "cell": "dd726f73-4806-40bc-96fc-73fefb01723e",
        "part": "whole"
       },
       "id": "377b1d2e-fb4b-4287-8539-ca876da0fe06"
      }
     }
    },
    "6538f172-7550-4eff-b4b6-e99ce0e8d572": {
     "id": "6538f172-7550-4eff-b4b6-e99ce0e8d572",
     "prev": "14bae410-eab0-4d2a-bd63-7da93ccdceeb",
     "regions": {
      "4e4c6a49-6659-4b76-9370-c9a767ba0b74": {
       "attrs": {
        "height": 0.8,
        "width": 0.8,
        "x": 0.1,
        "y": 0.1
       },
       "content": {
        "cell": "3e9b43df-a780-4274-853c-c27965bf57ac",
        "part": "whole"
       },
       "id": "4e4c6a49-6659-4b76-9370-c9a767ba0b74"
      }
     }
    },
    "6dd855d9-84e3-4a25-a1b9-1135dffdab2e": {
     "id": "6dd855d9-84e3-4a25-a1b9-1135dffdab2e",
     "prev": "7a82bb33-fe6c-494a-ab23-a1775af050fd",
     "regions": {
      "411aa111-cef1-4fbd-8d35-3c35abdddb6c": {
       "attrs": {
        "height": 0.8,
        "width": 0.8,
        "x": 0.1,
        "y": 0.1
       },
       "content": {
        "cell": "9829e4b4-9391-4dcf-b076-1f2ec7400d22",
        "part": "whole"
       },
       "id": "411aa111-cef1-4fbd-8d35-3c35abdddb6c"
      }
     }
    },
    "7a82bb33-fe6c-494a-ab23-a1775af050fd": {
     "id": "7a82bb33-fe6c-494a-ab23-a1775af050fd",
     "prev": "8195a570-1a7f-4154-b259-7972d5b46968",
     "regions": {
      "b803a173-ec18-436b-a455-9a1b0c59468d": {
       "attrs": {
        "height": 0.8,
        "width": 0.8,
        "x": 0.1,
        "y": 0.1
       },
       "content": {
        "cell": "56364033-3e4a-4ec4-b33a-e2a7a66ebb73",
        "part": "whole"
       },
       "id": "b803a173-ec18-436b-a455-9a1b0c59468d"
      }
     }
    },
    "7f8f8477-d5e6-415b-8ad2-11dae1e866ec": {
     "id": "7f8f8477-d5e6-415b-8ad2-11dae1e866ec",
     "prev": "2e1cd9d3-3855-453b-affa-8356f182866e",
     "regions": {
      "fa857601-dabd-4cce-a87b-c7cc807aa8cb": {
       "attrs": {
        "height": 0.8,
        "width": 0.8,
        "x": 0.1,
        "y": 0.1
       },
       "content": {
        "cell": "ab5f9723-41ae-4abb-835b-eb92909fec6c",
        "part": "whole"
       },
       "id": "fa857601-dabd-4cce-a87b-c7cc807aa8cb"
      }
     }
    },
    "8195a570-1a7f-4154-b259-7972d5b46968": {
     "id": "8195a570-1a7f-4154-b259-7972d5b46968",
     "prev": "6538f172-7550-4eff-b4b6-e99ce0e8d572",
     "regions": {
      "e1896a13-ecc7-424b-8b63-0ae784e556c0": {
       "attrs": {
        "height": 0.8,
        "width": 0.8,
        "x": 0.1,
        "y": 0.1
       },
       "content": {
        "cell": "f38f2088-f897-4d8c-ad69-05e60d3a21f1",
        "part": "whole"
       },
       "id": "e1896a13-ecc7-424b-8b63-0ae784e556c0"
      }
     }
    },
    "8285a566-d44b-4d64-951e-b73bc9754b0b": {
     "id": "8285a566-d44b-4d64-951e-b73bc9754b0b",
     "prev": "6dd855d9-84e3-4a25-a1b9-1135dffdab2e",
     "regions": {
      "a7df59a6-f182-4a4b-b96d-839a1e55a6b1": {
       "attrs": {
        "height": 0.8,
        "width": 0.8,
        "x": 0.1,
        "y": 0.1
       },
       "content": {
        "cell": "d4aeaf97-65fd-4983-92b2-67b4cb54f5f8",
        "part": "whole"
       },
       "id": "a7df59a6-f182-4a4b-b96d-839a1e55a6b1"
      }
     }
    },
    "86b06f13-a2da-47a2-8a3a-469f8ff812c6": {
     "id": "86b06f13-a2da-47a2-8a3a-469f8ff812c6",
     "prev": "03aaad0c-abe9-45b3-a5f6-ead3046e84d6",
     "regions": {
      "3d811965-7e67-4061-adb3-bb48dc527039": {
       "attrs": {
        "height": 0.8,
        "width": 0.8,
        "x": 0.1,
        "y": 0.1
       },
       "content": {
        "cell": "7a1e8bcf-6000-4e44-baa7-cf987234cc4d",
        "part": "whole"
       },
       "id": "3d811965-7e67-4061-adb3-bb48dc527039"
      }
     }
    },
    "913035ac-4e68-4ba5-8143-75aa87cbf216": {
     "id": "913035ac-4e68-4ba5-8143-75aa87cbf216",
     "prev": "c02fc2ac-2354-46ee-baee-958b8fa13287",
     "regions": {
      "34e61036-2c54-42b4-b9fe-e63b014017dc": {
       "attrs": {
        "height": 0.8,
        "width": 0.8,
        "x": 0.1,
        "y": 0.1
       },
       "content": {
        "cell": "48df2dce-559e-43fd-9df6-0c622cdf8d27",
        "part": "whole"
       },
       "id": "34e61036-2c54-42b4-b9fe-e63b014017dc"
      }
     }
    },
    "94829f2c-585e-462e-b778-6895612d0cff": {
     "id": "94829f2c-585e-462e-b778-6895612d0cff",
     "prev": "eb47ce76-3305-42a4-8ff3-6803024a6003",
     "regions": {
      "4db0ea6c-8d05-4495-926d-418186339ca2": {
       "attrs": {
        "height": 0.8,
        "width": 0.8,
        "x": 0.1,
        "y": 0.1
       },
       "content": {
        "cell": "ce070942-adaa-45d5-8db2-2b82426dc44a",
        "part": "whole"
       },
       "id": "4db0ea6c-8d05-4495-926d-418186339ca2"
      }
     }
    },
    "9cc6f613-5b99-4e8b-81f8-652018b30bbe": {
     "id": "9cc6f613-5b99-4e8b-81f8-652018b30bbe",
     "prev": "d3669873-b69b-40eb-91ae-0fe179569f81",
     "regions": {
      "7380c960-e7f9-401f-8d00-93192744f8d8": {
       "attrs": {
        "height": 0.8,
        "width": 0.8,
        "x": 0.1,
        "y": 0.1
       },
       "content": {
        "cell": "f34fb814-2b5b-4a89-86d1-8f68b82e8abf",
        "part": "whole"
       },
       "id": "7380c960-e7f9-401f-8d00-93192744f8d8"
      }
     }
    },
    "a22dbd5c-fd75-457c-ad92-1fbd3cabea29": {
     "id": "a22dbd5c-fd75-457c-ad92-1fbd3cabea29",
     "prev": "061125e8-695f-4d07-9012-ce6ba27c0a20",
     "regions": {
      "4597b387-b518-481b-8ac6-a6a9c59695c2": {
       "attrs": {
        "height": 0.8,
        "width": 0.8,
        "x": 0.1,
        "y": 0.1
       },
       "content": {
        "cell": "30242314-ce4a-4f87-99ec-7220280a9076",
        "part": "whole"
       },
       "id": "4597b387-b518-481b-8ac6-a6a9c59695c2"
      }
     }
    },
    "a3307f62-25ab-439d-9a17-22c66aac414c": {
     "id": "a3307f62-25ab-439d-9a17-22c66aac414c",
     "prev": "26751ed4-5876-43dc-b716-2843223f4495",
     "regions": {
      "181928e9-7479-481d-af72-47fb474228fb": {
       "attrs": {
        "height": 0.8,
        "width": 0.8,
        "x": 0.1,
        "y": 0.1
       },
       "content": {
        "cell": "3df8bbc7-2dea-4fae-804b-735560655f37",
        "part": "whole"
       },
       "id": "181928e9-7479-481d-af72-47fb474228fb"
      }
     }
    },
    "a5c28a2b-0c4c-4867-9a77-4c0195887e59": {
     "id": "a5c28a2b-0c4c-4867-9a77-4c0195887e59",
     "prev": "86b06f13-a2da-47a2-8a3a-469f8ff812c6",
     "regions": {
      "4901afa1-8a03-4be5-a901-d15840dda0a6": {
       "attrs": {
        "height": 0.8,
        "width": 0.8,
        "x": 0.1,
        "y": 0.1
       },
       "content": {
        "cell": "14a405ca-2795-4720-a06e-3849dac8bf98",
        "part": "whole"
       },
       "id": "4901afa1-8a03-4be5-a901-d15840dda0a6"
      }
     }
    },
    "a76e9f37-ddc0-4dd3-82b8-f4610d142701": {
     "id": "a76e9f37-ddc0-4dd3-82b8-f4610d142701",
     "prev": "a3307f62-25ab-439d-9a17-22c66aac414c",
     "regions": {
      "11309e78-91f7-44f3-8e0c-e1a48d88fad9": {
       "attrs": {
        "height": 0.8,
        "width": 0.8,
        "x": 0.1,
        "y": 0.1
       },
       "content": {
        "cell": "ba342972-9fcc-4941-b7ec-24ac4edfdd75",
        "part": "whole"
       },
       "id": "11309e78-91f7-44f3-8e0c-e1a48d88fad9"
      }
     }
    },
    "a77c5b87-ad2e-4a37-8d4d-c261162d1c75": {
     "id": "a77c5b87-ad2e-4a37-8d4d-c261162d1c75",
     "prev": "ba9c6d19-b298-438b-8d30-e252a00fb0f9",
     "regions": {
      "d95e3d76-0d49-42a3-bb90-3a1dbf485cb7": {
       "attrs": {
        "height": 0.8,
        "width": 0.8,
        "x": 0.1,
        "y": 0.1
       },
       "content": {
        "cell": "68b90638-366d-4e2a-9753-54b07bf5a742",
        "part": "whole"
       },
       "id": "d95e3d76-0d49-42a3-bb90-3a1dbf485cb7"
      }
     }
    },
    "b00f8beb-c705-4c59-9ffe-06fcff45409e": {
     "id": "b00f8beb-c705-4c59-9ffe-06fcff45409e",
     "prev": "217cf9f8-d155-4994-8cd0-51ebd8299f3b",
     "regions": {
      "f48ae625-7a71-493e-8571-f05404e5d3d6": {
       "attrs": {
        "height": 0.8,
        "width": 0.8,
        "x": 0.1,
        "y": 0.1
       },
       "content": {
        "cell": "effc526c-54ab-4bd5-833b-8f46f1cb25ee",
        "part": "whole"
       },
       "id": "f48ae625-7a71-493e-8571-f05404e5d3d6"
      }
     }
    },
    "b9337dac-5bb5-469d-af9b-e29003555c32": {
     "id": "b9337dac-5bb5-469d-af9b-e29003555c32",
     "prev": "14d44cbe-53fc-4f1d-aed3-f7f02d89ce86",
     "regions": {
      "e7b5a815-27ed-48f6-b69e-625bcc15949e": {
       "attrs": {
        "height": 0.8,
        "width": 0.8,
        "x": 0.1,
        "y": 0.1
       },
       "content": {
        "cell": "80605bfe-d76e-4822-886f-2a2df4c2d273",
        "part": "whole"
       },
       "id": "e7b5a815-27ed-48f6-b69e-625bcc15949e"
      }
     }
    },
    "b9a69bce-d333-4f5a-870b-8059fe713f33": {
     "id": "b9a69bce-d333-4f5a-870b-8059fe713f33",
     "prev": "b9337dac-5bb5-469d-af9b-e29003555c32",
     "regions": {
      "a33b1e0f-de35-4d30-8ecb-2857beabeb2e": {
       "attrs": {
        "height": 0.8,
        "width": 0.8,
        "x": 0.1,
        "y": 0.1
       },
       "content": {
        "cell": "97e1d387-4187-48a3-b9c1-ee094894a456",
        "part": "whole"
       },
       "id": "a33b1e0f-de35-4d30-8ecb-2857beabeb2e"
      }
     }
    },
    "ba8bc73f-48ea-48d0-9f70-e894310cf62a": {
     "id": "ba8bc73f-48ea-48d0-9f70-e894310cf62a",
     "prev": "6275a493-c25e-410f-84e6-e8f9825aebd8",
     "regions": {
      "97996ea9-c5a0-4729-aac8-52a8eccd8884": {
       "attrs": {
        "height": 0.8,
        "width": 0.8,
        "x": 0.1,
        "y": 0.1
       },
       "content": {
        "cell": "bbbd75e8-8c36-4ca0-b8aa-c30f11e9708a",
        "part": "whole"
       },
       "id": "97996ea9-c5a0-4729-aac8-52a8eccd8884"
      }
     }
    },
    "ba9c6d19-b298-438b-8d30-e252a00fb0f9": {
     "id": "ba9c6d19-b298-438b-8d30-e252a00fb0f9",
     "prev": "d4b00859-028f-45b2-9abb-39946b07e5da",
     "regions": {
      "8d59b8ad-be07-46b3-ade5-9f756d62aaf0": {
       "attrs": {
        "height": 0.8,
        "width": 0.8,
        "x": 0.1,
        "y": 0.1
       },
       "content": {
        "cell": "3e8e0721-9a98-491a-a671-95f9fca4cab8",
        "part": "whole"
       },
       "id": "8d59b8ad-be07-46b3-ade5-9f756d62aaf0"
      }
     }
    },
    "be989030-e577-41e8-b8f3-d930932f5a50": {
     "id": "be989030-e577-41e8-b8f3-d930932f5a50",
     "prev": "e67466a7-435c-4af7-bec0-bf474c19799a",
     "regions": {
      "27b3ad6b-2161-4b9e-8a75-84a74710e850": {
       "attrs": {
        "height": 0.8,
        "width": 0.8,
        "x": 0.1,
        "y": 0.1
       },
       "content": {
        "cell": "6b174a12-58c3-43f0-9844-dc8bc752e93b",
        "part": "whole"
       },
       "id": "27b3ad6b-2161-4b9e-8a75-84a74710e850"
      }
     }
    },
    "c02fc2ac-2354-46ee-baee-958b8fa13287": {
     "id": "c02fc2ac-2354-46ee-baee-958b8fa13287",
     "prev": "45446878-c4ed-401d-8eb0-4c8ebfbb6eb9",
     "regions": {
      "0176c488-0728-4ee0-83ba-d62a827f951c": {
       "attrs": {
        "height": 0.8,
        "width": 0.8,
        "x": 0.1,
        "y": 0.1
       },
       "content": {
        "cell": "68e4e739-4365-41c0-bba4-e539956dbdcb",
        "part": "whole"
       },
       "id": "0176c488-0728-4ee0-83ba-d62a827f951c"
      }
     }
    },
    "d0d306d2-82f7-4934-ba94-497123b6c143": {
     "id": "d0d306d2-82f7-4934-ba94-497123b6c143",
     "prev": null,
     "regions": {
      "76ad514b-c358-46f2-9108-32283e2ec4d0": {
       "attrs": {
        "height": 0.8,
        "width": 0.8,
        "x": 0.1,
        "y": 0.1
       },
       "content": {
        "cell": "c5fd9dba-d51a-4471-8b66-28875863813a",
        "part": "whole"
       },
       "id": "76ad514b-c358-46f2-9108-32283e2ec4d0"
      }
     }
    },
    "d3669873-b69b-40eb-91ae-0fe179569f81": {
     "id": "d3669873-b69b-40eb-91ae-0fe179569f81",
     "prev": "a77c5b87-ad2e-4a37-8d4d-c261162d1c75",
     "regions": {
      "576d282a-9337-492b-ad23-cf202ee12cc5": {
       "attrs": {
        "height": 0.8,
        "width": 0.8,
        "x": 0.1,
        "y": 0.1
       },
       "content": {
        "cell": "ff401d21-b16f-4cc6-85c0-d6c5c612a05d",
        "part": "whole"
       },
       "id": "576d282a-9337-492b-ad23-cf202ee12cc5"
      }
     }
    },
    "d4b00859-028f-45b2-9abb-39946b07e5da": {
     "id": "d4b00859-028f-45b2-9abb-39946b07e5da",
     "prev": "46d0582e-d950-496c-948a-93cdb0367fca",
     "regions": {
      "53ab92fb-6686-4332-90bb-ffcefe1c9eee": {
       "attrs": {
        "height": 0.8,
        "width": 0.8,
        "x": 0.1,
        "y": 0.1
       },
       "content": {
        "cell": "17cb9c6f-6234-4e50-82cb-d9def4fc293e",
        "part": "whole"
       },
       "id": "53ab92fb-6686-4332-90bb-ffcefe1c9eee"
      }
     }
    },
    "d7ce4239-502d-412e-a0b5-22138568c28e": {
     "id": "d7ce4239-502d-412e-a0b5-22138568c28e",
     "prev": "be989030-e577-41e8-b8f3-d930932f5a50",
     "regions": {
      "d3a174e2-73ed-4270-8844-101546711fda": {
       "attrs": {
        "height": 0.8,
        "width": 0.8,
        "x": 0.1,
        "y": 0.1
       },
       "content": {
        "cell": "6d078e93-be3b-4a2a-89a5-5677ee259c5e",
        "part": "whole"
       },
       "id": "d3a174e2-73ed-4270-8844-101546711fda"
      }
     }
    },
    "db2c34c4-1409-4cbb-a478-491df2e4a0de": {
     "id": "db2c34c4-1409-4cbb-a478-491df2e4a0de",
     "prev": "eaddcaa8-e16b-4f58-ab96-a35999cd7b05",
     "regions": {
      "99a62ebd-b2ae-4111-862a-f6cc16a460df": {
       "attrs": {
        "height": 0.8,
        "width": 0.8,
        "x": 0.1,
        "y": 0.1
       },
       "content": {
        "cell": "6c113b61-3bfe-436b-b64d-54477908cbd5",
        "part": "whole"
       },
       "id": "99a62ebd-b2ae-4111-862a-f6cc16a460df"
      }
     }
    },
    "e5c88dd6-1167-44d2-b903-af51b145a0ca": {
     "id": "e5c88dd6-1167-44d2-b903-af51b145a0ca",
     "prev": "b9a69bce-d333-4f5a-870b-8059fe713f33",
     "regions": {
      "7b3fef0b-a47a-4af0-819b-c89a47e20861": {
       "attrs": {
        "height": 0.8,
        "width": 0.8,
        "x": 0.1,
        "y": 0.1
       },
       "content": {
        "cell": "8a6ebd35-4b06-4c65-822c-6a7fdb750af3",
        "part": "whole"
       },
       "id": "7b3fef0b-a47a-4af0-819b-c89a47e20861"
      }
     }
    },
    "e67466a7-435c-4af7-bec0-bf474c19799a": {
     "id": "e67466a7-435c-4af7-bec0-bf474c19799a",
     "prev": "d0d306d2-82f7-4934-ba94-497123b6c143",
     "regions": {
      "56321e62-a236-495f-b26e-ee7db73bcfc6": {
       "attrs": {
        "height": 0.8,
        "width": 0.8,
        "x": 0.1,
        "y": 0.1
       },
       "content": {
        "cell": "a1368fc3-2125-4934-8c99-25f19c84f97a",
        "part": "whole"
       },
       "id": "56321e62-a236-495f-b26e-ee7db73bcfc6"
      }
     }
    },
    "eaddcaa8-e16b-4f58-ab96-a35999cd7b05": {
     "id": "eaddcaa8-e16b-4f58-ab96-a35999cd7b05",
     "prev": "b00f8beb-c705-4c59-9ffe-06fcff45409e",
     "regions": {
      "055d9d70-df2b-4419-86eb-15aa6fa1bb7a": {
       "attrs": {
        "height": 0.8,
        "width": 0.8,
        "x": 0.1,
        "y": 0.1
       },
       "content": {
        "cell": "dd3c3a57-c02e-4332-92c6-06bfeff8b66f",
        "part": "whole"
       },
       "id": "055d9d70-df2b-4419-86eb-15aa6fa1bb7a"
      }
     }
    },
    "eb47ce76-3305-42a4-8ff3-6803024a6003": {
     "id": "eb47ce76-3305-42a4-8ff3-6803024a6003",
     "prev": "22ff0c02-202e-4b0e-8761-91c244c71515",
     "regions": {
      "3dd29e6b-25fd-43a3-b313-a92c590645c8": {
       "attrs": {
        "height": 0.8,
        "width": 0.8,
        "x": 0.1,
        "y": 0.1
       },
       "content": {
        "cell": "d7814a61-ecd8-49c9-b0da-44b988f66519",
        "part": "whole"
       },
       "id": "3dd29e6b-25fd-43a3-b313-a92c590645c8"
      }
     }
    }
   },
   "themes": {}
  }
 },
 "nbformat": 4,
 "nbformat_minor": 2
}
